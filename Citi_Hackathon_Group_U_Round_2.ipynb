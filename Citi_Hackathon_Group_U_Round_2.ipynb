{
  "nbformat": 4,
  "nbformat_minor": 0,
  "metadata": {
    "colab": {
      "provenance": [],
      "include_colab_link": true
    },
    "kernelspec": {
      "name": "python3",
      "display_name": "Python 3"
    },
    "language_info": {
      "name": "python"
    }
  },
  "cells": [
    {
      "cell_type": "markdown",
      "metadata": {
        "id": "view-in-github",
        "colab_type": "text"
      },
      "source": [
        "<a href=\"https://colab.research.google.com/github/payal1103/Emotion-Recognition/blob/main/Citi_Hackathon_Group_U_Round_2.ipynb\" target=\"_parent\"><img src=\"https://colab.research.google.com/assets/colab-badge.svg\" alt=\"Open In Colab\"/></a>"
      ]
    },
    {
      "cell_type": "markdown",
      "source": [
        "**NEWS**"
      ],
      "metadata": {
        "id": "5MLqQYugRiED"
      }
    },
    {
      "cell_type": "code",
      "execution_count": 2,
      "metadata": {
        "colab": {
          "base_uri": "https://localhost:8080/"
        },
        "id": "wudsqGauRf7d",
        "outputId": "66ab401f-7e70-4807-c10e-cfc3868bc79c"
      },
      "outputs": [
        {
          "output_type": "stream",
          "name": "stdout",
          "text": [
            "Looking in indexes: https://pypi.org/simple, https://us-python.pkg.dev/colab-wheels/public/simple/\n",
            "Collecting newsapi-python\n",
            "  Downloading newsapi_python-0.2.6-py2.py3-none-any.whl (7.9 kB)\n",
            "Requirement already satisfied: requests<3.0.0 in /usr/local/lib/python3.8/dist-packages (from newsapi-python) (2.23.0)\n",
            "Requirement already satisfied: chardet<4,>=3.0.2 in /usr/local/lib/python3.8/dist-packages (from requests<3.0.0->newsapi-python) (3.0.4)\n",
            "Requirement already satisfied: idna<3,>=2.5 in /usr/local/lib/python3.8/dist-packages (from requests<3.0.0->newsapi-python) (2.10)\n",
            "Requirement already satisfied: urllib3!=1.25.0,!=1.25.1,<1.26,>=1.21.1 in /usr/local/lib/python3.8/dist-packages (from requests<3.0.0->newsapi-python) (1.24.3)\n",
            "Requirement already satisfied: certifi>=2017.4.17 in /usr/local/lib/python3.8/dist-packages (from requests<3.0.0->newsapi-python) (2022.12.7)\n",
            "Installing collected packages: newsapi-python\n",
            "Successfully installed newsapi-python-0.2.6\n"
          ]
        }
      ],
      "source": [
        "pip install newsapi-python"
      ]
    },
    {
      "cell_type": "code",
      "source": [
        "from newsapi import NewsApiClient\n",
        "newsapi = NewsApiClient(api_key='97b89884fb6d40408e7aec059dd6f8b6')\n",
        "top_headlines = newsapi.get_top_headlines(\n",
        "                                          q='NSE',\n",
        "                                          category='business',\n",
        "                                          language='en',\n",
        "                                          )\n",
        "\n",
        "article = top_headlines[\"articles\"]\n",
        " \n",
        "results = []\n",
        "\t\n",
        "for ar in article:\n",
        "  results.append(ar[\"description\"])\n",
        "\t\t\n",
        "for i in range(len(results)):\n",
        "\t# printing all trending news\n",
        "\tprint(i + 1, results[i])\n"
      ],
      "metadata": {
        "colab": {
          "base_uri": "https://localhost:8080/"
        },
        "id": "ka5ZGRgrRtsZ",
        "outputId": "2693ccd7-b939-47b3-dc10-fa36ee9e6194"
      },
      "execution_count": 3,
      "outputs": [
        {
          "output_type": "stream",
          "name": "stdout",
          "text": [
            "1 Nothing more horrifying than a chirpy Energy Secretary tweet first thing in the morning. Especially when it contains the trifecta of bad news for taxpayers from one of the denser members of the Biden...\n",
            "2 The price-to-earnings multiples say recession. But the multiples said similar things in 2022. So how long can the multiples stay this low?\n",
            "3 Nifty50: 18,105 ▼ 85 (-0.4%) Sensex: 60,840 ▼ 293 (-0.4%) Namaste, friends! Markets tanked today, but don’t let that cast a shadow over your new year party. Here’s a fact for you to chew on… Of the 248 trading days in 2022, bulls ruled on 124 days. So, keep t…\n",
            "4 Among sectors, metal, realty and PSU Bank indices up 0.5-1 percent, while power, bank and FMCG indices down 0.5 percent each.\n",
            "5 Mortgage rates rose this week, their first increase after falling for six consecutive weeks, according to the latest data from Freddie Mac.\n",
            "6 The capital market regulator imposed a penalty of Rs 1 lakh each on the fund house and its trustee company for absorbing a chunk of its recently launched scheme’s- DSP Nifty 50 ETF- expenses on the AMC’s books, in violation of SEBI rules that state that all s…\n",
            "7 Is the stock market a Ponzi scheme?\n"
          ]
        }
      ]
    },
    {
      "cell_type": "markdown",
      "source": [],
      "metadata": {
        "id": "fKmQLmiYVKDN"
      }
    },
    {
      "cell_type": "markdown",
      "source": [
        "**Market Turn Over**"
      ],
      "metadata": {
        "id": "AzstuVEhEcCU"
      }
    },
    {
      "cell_type": "code",
      "source": [
        "pip install jugaad-data pandas"
      ],
      "metadata": {
        "colab": {
          "base_uri": "https://localhost:8080/"
        },
        "id": "6VjDtPhqRtgx",
        "outputId": "c4d2def6-9d6a-4af7-dbb3-5c9b15b0d692"
      },
      "execution_count": 4,
      "outputs": [
        {
          "output_type": "stream",
          "name": "stdout",
          "text": [
            "Looking in indexes: https://pypi.org/simple, https://us-python.pkg.dev/colab-wheels/public/simple/\n",
            "Collecting jugaad-data\n",
            "  Downloading jugaad_data-0.24-py3-none-any.whl (26 kB)\n",
            "Requirement already satisfied: pandas in /usr/local/lib/python3.8/dist-packages (1.3.5)\n",
            "Requirement already satisfied: click==7.1.2 in /usr/local/lib/python3.8/dist-packages (from jugaad-data) (7.1.2)\n",
            "Requirement already satisfied: appdirs==1.4.4 in /usr/local/lib/python3.8/dist-packages (from jugaad-data) (1.4.4)\n",
            "Collecting beautifulsoup4==4.9.3\n",
            "  Downloading beautifulsoup4-4.9.3-py3-none-any.whl (115 kB)\n",
            "\u001b[K     |████████████████████████████████| 115 kB 8.5 MB/s \n",
            "\u001b[?25hRequirement already satisfied: requests in /usr/local/lib/python3.8/dist-packages (from jugaad-data) (2.23.0)\n",
            "Collecting soupsieve>1.2\n",
            "  Downloading soupsieve-2.3.2.post1-py3-none-any.whl (37 kB)\n",
            "Requirement already satisfied: python-dateutil>=2.7.3 in /usr/local/lib/python3.8/dist-packages (from pandas) (2.8.2)\n",
            "Requirement already satisfied: numpy>=1.17.3 in /usr/local/lib/python3.8/dist-packages (from pandas) (1.21.6)\n",
            "Requirement already satisfied: pytz>=2017.3 in /usr/local/lib/python3.8/dist-packages (from pandas) (2022.6)\n",
            "Requirement already satisfied: six>=1.5 in /usr/local/lib/python3.8/dist-packages (from python-dateutil>=2.7.3->pandas) (1.15.0)\n",
            "Requirement already satisfied: urllib3!=1.25.0,!=1.25.1,<1.26,>=1.21.1 in /usr/local/lib/python3.8/dist-packages (from requests->jugaad-data) (1.24.3)\n",
            "Requirement already satisfied: certifi>=2017.4.17 in /usr/local/lib/python3.8/dist-packages (from requests->jugaad-data) (2022.12.7)\n",
            "Requirement already satisfied: idna<3,>=2.5 in /usr/local/lib/python3.8/dist-packages (from requests->jugaad-data) (2.10)\n",
            "Requirement already satisfied: chardet<4,>=3.0.2 in /usr/local/lib/python3.8/dist-packages (from requests->jugaad-data) (3.0.4)\n",
            "Installing collected packages: soupsieve, beautifulsoup4, jugaad-data\n",
            "  Attempting uninstall: beautifulsoup4\n",
            "    Found existing installation: beautifulsoup4 4.6.3\n",
            "    Uninstalling beautifulsoup4-4.6.3:\n",
            "      Successfully uninstalled beautifulsoup4-4.6.3\n",
            "Successfully installed beautifulsoup4-4.9.3 jugaad-data-0.24 soupsieve-2.3.2.post1\n"
          ]
        }
      ]
    },
    {
      "cell_type": "code",
      "source": [
        "from jugaad_data.nse import NSELive\n",
        "n = NSELive()\n",
        "nifty = n.live_index(\"NIFTY 200\")\n",
        "turnover = n.market_turnover()\n",
        "# Turnovers across different segments\n",
        "for t in turnover['data']:\n",
        "    print(\"{} - {}\".format(t['name'], t['today']))"
      ],
      "metadata": {
        "colab": {
          "base_uri": "https://localhost:8080/"
        },
        "id": "ozXIXSWBRtT2",
        "outputId": "0ebd53d1-c2e1-4799-b456-4ddce7638f5c"
      },
      "execution_count": 5,
      "outputs": [
        {
          "output_type": "stream",
          "name": "stdout",
          "text": [
            "Equities - {'volume': 2984623500, 'value': 441065997886.74866, 'oivalue': None, 'date': '30-Dec-2022 15:30:00'}\n",
            "Index Futures - {'volume': 312800, 'value': 309221610001.75, 'oivalue': 327230, 'date': '30-Dec-2022 15:30:00'}\n",
            "Index Options - {'volume': 102373595, 'value': 442932548909.75, 'oivalue': 7680083.5, 'date': '30-Dec-2022 15:30:00'}\n",
            "Stock Futures - {'volume': 665792, 'value': 478978667391.25006, 'oivalue': 2739668, 'date': '30-Dec-2022 15:30:00'}\n",
            "Stock Options - {'volume': 2218862, 'value': 32626811336.399998, 'oivalue': 1226311, 'date': '30-Dec-2022 15:30:00'}\n",
            "Currency Futures - {'volume': 3370087, 'value': 282685815702, 'oivalue': 6447967, 'date': '30-Dec-2022 17:00:00'}\n",
            "Currency Options - {'volume': 12653121, 'value': 1298725007.5, 'oivalue': 7320393, 'date': '30-Dec-2022 17:00:00'}\n",
            "Commodity Futures - {}\n",
            "Commodity Options - {'volume': 1031, 'value': 3621695, 'oivalue': 2076, 'date': '30-Dec-2022 23:25:52'}\n",
            "Interest Rate Futures - {'volume': 1568, 'value': 311889040, 'oivalue': 48146, 'date': '30-Dec-2022 17:00:00'}\n",
            "Interest Rate Options - {}\n"
          ]
        }
      ]
    },
    {
      "cell_type": "markdown",
      "source": [
        "**Flows**"
      ],
      "metadata": {
        "id": "4D72r07YRg8H"
      }
    },
    {
      "cell_type": "code",
      "source": [
        "pip install --upgrade nsepython"
      ],
      "metadata": {
        "colab": {
          "base_uri": "https://localhost:8080/"
        },
        "id": "98xNmlX-VOwI",
        "outputId": "63327687-ea42-4199-f3bd-9182d34e961a"
      },
      "execution_count": 7,
      "outputs": [
        {
          "output_type": "stream",
          "name": "stdout",
          "text": [
            "Looking in indexes: https://pypi.org/simple, https://us-python.pkg.dev/colab-wheels/public/simple/\n",
            "Collecting nsepython\n",
            "  Downloading nsepython-0.0.973-py3-none-any.whl (22 kB)\n",
            "Requirement already satisfied: pandas in /usr/local/lib/python3.8/dist-packages (from nsepython) (1.3.5)\n",
            "Requirement already satisfied: requests in /usr/local/lib/python3.8/dist-packages (from nsepython) (2.23.0)\n",
            "Requirement already satisfied: scipy in /usr/local/lib/python3.8/dist-packages (from nsepython) (1.7.3)\n",
            "Requirement already satisfied: numpy>=1.17.3 in /usr/local/lib/python3.8/dist-packages (from pandas->nsepython) (1.21.6)\n",
            "Requirement already satisfied: pytz>=2017.3 in /usr/local/lib/python3.8/dist-packages (from pandas->nsepython) (2022.6)\n",
            "Requirement already satisfied: python-dateutil>=2.7.3 in /usr/local/lib/python3.8/dist-packages (from pandas->nsepython) (2.8.2)\n",
            "Requirement already satisfied: six>=1.5 in /usr/local/lib/python3.8/dist-packages (from python-dateutil>=2.7.3->pandas->nsepython) (1.15.0)\n",
            "Requirement already satisfied: urllib3!=1.25.0,!=1.25.1,<1.26,>=1.21.1 in /usr/local/lib/python3.8/dist-packages (from requests->nsepython) (1.24.3)\n",
            "Requirement already satisfied: idna<3,>=2.5 in /usr/local/lib/python3.8/dist-packages (from requests->nsepython) (2.10)\n",
            "Requirement already satisfied: chardet<4,>=3.0.2 in /usr/local/lib/python3.8/dist-packages (from requests->nsepython) (3.0.4)\n",
            "Requirement already satisfied: certifi>=2017.4.17 in /usr/local/lib/python3.8/dist-packages (from requests->nsepython) (2022.12.7)\n",
            "Installing collected packages: nsepython\n",
            "Successfully installed nsepython-0.0.973\n"
          ]
        }
      ]
    },
    {
      "cell_type": "code",
      "source": [
        "from nsepython import *  \n",
        "print(nse_fiidii())"
      ],
      "metadata": {
        "colab": {
          "base_uri": "https://localhost:8080/"
        },
        "id": "vxLfB6oVVOsv",
        "outputId": "254fc471-5e0e-4d4d-c1b6-c2f9d5e08712"
      },
      "execution_count": 8,
      "outputs": [
        {
          "output_type": "stream",
          "name": "stdout",
          "text": [
            "    category         date buyValue sellValue  netValue\n",
            "0     DII **  30-Dec-2022  5715.85   3449.65    2266.2\n",
            "1  FII/FPI *  30-Dec-2022  2252.66   5203.55  -2950.89\n"
          ]
        }
      ]
    },
    {
      "cell_type": "markdown",
      "source": [
        "**OPTIONS SNAPSHOT**"
      ],
      "metadata": {
        "id": "8OWGux0Ia_2r"
      }
    },
    {
      "cell_type": "code",
      "source": [
        "oi_data= oi_chain_builder(\"NIFTY\",\"latest\",\"compact\")\n",
        "print(oi_data)\n"
      ],
      "metadata": {
        "colab": {
          "base_uri": "https://localhost:8080/"
        },
        "id": "qD1FLpE-VOpU",
        "outputId": "15cdfcc4-1a8f-4f04-e9cd-f62889a2b502"
      },
      "execution_count": 9,
      "outputs": [
        {
          "output_type": "stream",
          "name": "stdout",
          "text": [
            "(     CALLS_OI  CALLS_Chng in OI  CALLS_Volume  CALLS_IV  CALLS_LTP  \\\n",
            "0         0.0               0.0           0.0      0.00       0.00   \n",
            "1         1.0               0.0           0.0      0.00    3071.00   \n",
            "2         0.0               0.0           0.0      0.00       0.00   \n",
            "3         0.0               0.0           0.0      0.00       0.00   \n",
            "4         0.0               0.0           0.0      0.00       0.00   \n",
            "..        ...               ...           ...       ...        ...   \n",
            "116     183.0              88.0         429.0     38.12       0.60   \n",
            "117     207.0              87.0         431.0     39.00       0.65   \n",
            "118     157.0              18.0         348.0     39.59       0.65   \n",
            "119   18820.0            6032.0       35528.0     39.88       0.60   \n",
            "120    3727.0            1945.0        7286.0     40.46       0.60   \n",
            "\n",
            "     CALLS_Net Chng  Strike Price  PUTS_OI  PUTS_Chng in OI  PUTS_Volume  ...  \\\n",
            "0              0.00       15050.0   3892.0           1320.0      12813.0  ...   \n",
            "1              0.00       15100.0   1291.0           1174.0       7254.0  ...   \n",
            "2              0.00       15150.0    244.0            244.0        808.0  ...   \n",
            "3              0.00       15200.0     81.0             81.0        309.0  ...   \n",
            "4              0.00       15250.0     97.0             97.0        217.0  ...   \n",
            "..              ...           ...      ...              ...          ...  ...   \n",
            "116           -0.45       20850.0      0.0              0.0          0.0  ...   \n",
            "117           -0.40       20900.0      0.0              0.0          0.0  ...   \n",
            "118           -0.60       20950.0      0.0              0.0          0.0  ...   \n",
            "119           -0.45       21000.0      0.0              0.0          0.0  ...   \n",
            "120           -0.30       21050.0      0.0              0.0          0.0  ...   \n",
            "\n",
            "     PUTS_LTP  PUTS_Net Chng  CALLS_Ask Price  CALLS_Ask Qty  CALLS_Bid Price  \\\n",
            "0        0.45          -0.90              0.0            0.0              0.0   \n",
            "1        0.45          -0.55              0.0            0.0              0.0   \n",
            "2        0.45          -8.95              0.0            0.0              0.0   \n",
            "3        0.65          -9.80              0.0            0.0              0.0   \n",
            "4        0.55         -11.00              0.0            0.0              0.0   \n",
            "..        ...            ...              ...            ...              ...   \n",
            "116      0.00           0.00              0.0            0.0              0.0   \n",
            "117      0.00           0.00              0.0            0.0              0.0   \n",
            "118      0.00           0.00              0.0            0.0              0.0   \n",
            "119      0.00           0.00              0.0            0.0              0.0   \n",
            "120      0.00           0.00              0.0            0.0              0.0   \n",
            "\n",
            "     CALLS_Bid Qty  PUTS_Ask Price  PUTS_Ask Qty  PUTS_Bid Price  PUTS_Bid Qty  \n",
            "0              0.0             0.0           0.0             0.0           0.0  \n",
            "1              0.0             0.0           0.0             0.0           0.0  \n",
            "2              0.0             0.0           0.0             0.0           0.0  \n",
            "3              0.0             0.0           0.0             0.0           0.0  \n",
            "4              0.0             0.0           0.0             0.0           0.0  \n",
            "..             ...             ...           ...             ...           ...  \n",
            "116            0.0             0.0           0.0             0.0           0.0  \n",
            "117            0.0             0.0           0.0             0.0           0.0  \n",
            "118            0.0             0.0           0.0             0.0           0.0  \n",
            "119            0.0             0.0           0.0             0.0           0.0  \n",
            "120            0.0             0.0           0.0             0.0           0.0  \n",
            "\n",
            "[121 rows x 21 columns], 18105.3, '30-Dec-2022 15:30:00')\n"
          ]
        }
      ]
    },
    {
      "cell_type": "code",
      "source": [],
      "metadata": {
        "id": "L-h-YMv_VOZB"
      },
      "execution_count": null,
      "outputs": []
    },
    {
      "cell_type": "code",
      "source": [],
      "metadata": {
        "id": "Qjko--S4VNz2"
      },
      "execution_count": null,
      "outputs": []
    },
    {
      "cell_type": "markdown",
      "source": [],
      "metadata": {
        "id": "MKzmQiXhVNM1"
      }
    }
  ]
}